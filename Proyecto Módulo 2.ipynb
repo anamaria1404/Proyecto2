{
 "cells": [
  {
   "cell_type": "markdown",
   "metadata": {},
   "source": [
    "# <p style=\"text-align: center;\">  Proyecto Módulo 2\n",
    "### <p style=\"text-align: center;\"> Simulación Montacarlo: Stock Prices  \n",
    "\n",
    "### <span style=\"color:blue\"> Ana María Aguilera Gómez\n",
    "\n",
    "### <span style=\"color:blue\"> Efraín Gómez Tapia\n",
    "    \n",
    "### <span style=\"color:blue\"> Hector Oñate R.\n",
    "    \n",
    "![alt text](https://isngs.com/wp-content/uploads/2016/11/stock-market-trends-what-causes-stock-prices-to-change-768x576.jpg)"
   ]
  },
  {
   "cell_type": "markdown",
   "metadata": {},
   "source": [
    "\"cells\": [\n",
    "  {\n",
    "   \"cell_type\": \"markdown\",\n",
    "   \"metadata\": {},\n",
    "   \"source\": [\n",
    "    \"# Calculadora Montecarlo integrales Dobles\"\n",
    "   ]"
   ]
  },
  {
   "cell_type": "code",
   "execution_count": null,
   "metadata": {},
   "outputs": [],
   "source": []
  }
 ],
 "metadata": {
  "kernelspec": {
   "display_name": "Python 3",
   "language": "python",
   "name": "python3"
  },
  "language_info": {
   "codemirror_mode": {
    "name": "ipython",
    "version": 3
   },
   "file_extension": ".py",
   "mimetype": "text/x-python",
   "name": "python",
   "nbconvert_exporter": "python",
   "pygments_lexer": "ipython3",
   "version": "3.7.3"
  }
 },
 "nbformat": 4,
 "nbformat_minor": 2
}
